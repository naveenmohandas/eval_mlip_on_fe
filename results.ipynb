{
 "cells": [
  {
   "cell_type": "markdown",
   "id": "0d1c2b36",
   "metadata": {},
   "source": [
    "# About\n",
    "This notebook is to analyse the results after the simulations are done to get the plots similar to the ones the paper."
   ]
  },
  {
   "cell_type": "markdown",
   "id": "82467329",
   "metadata": {},
   "source": [
    "# Requirements\n",
    "\n",
    "As it is only for analysis, it requires the following packages:\n",
    "- `Pandas`\n",
    "- `Numpy`\n",
    "- `Matplotlib`\n",
    "- `Seaborn`\n",
    "- `Ase`\n",
    "\n"
   ]
  },
  {
   "cell_type": "code",
   "execution_count": null,
   "id": "fdf9bd7a",
   "metadata": {
    "ExecuteTime": {
     "end_time": "2025-07-02T06:04:51.107304Z",
     "start_time": "2025-07-02T06:04:51.105500Z"
    }
   },
   "outputs": [],
   "source": [
    "# Contains all general imports for the notebook\n",
    "# %matplotlib inline\n",
    "# %matplotlib notebook\n",
    "\n",
    "from pathlib import Path\n",
    "import pickle\n",
    "\n",
    "import pandas as pd\n",
    "import numpy as np\n",
    "import seaborn as sns\n",
    "import matplotlib.pyplot as plt\n",
    "from matplotlib.markers import MarkerStyle\n",
    "\n",
    "# sns.set_theme(style=\"whitegrid\")\n",
    "sns.set_style(\"whitegrid\", {'axes.grid' : False})\n",
    "\n",
    "# set matplotlib font size\n",
    "# plt.rcParams.update({'font.size': 24})\n",
    "plt.rcParams['svg.fonttype'] = 'none'\n",
    "\n",
    "# for dark background\n",
    "# sns.set(style=\"ticks\", context=\"talk\")\n",
    "# plt.style.use(\"dark_background\")"
   ]
  },
  {
   "cell_type": "code",
   "execution_count": null,
   "id": "71a09414",
   "metadata": {
    "ExecuteTime": {
     "end_time": "2025-07-02T06:04:51.185358Z",
     "start_time": "2025-07-02T06:04:51.122311Z"
    }
   },
   "outputs": [],
   "source": [
    "# loading the local code\n",
    "%load_ext autoreload\n",
    "%autoreload 1\n",
    "%aimport utils.make_plots\n"
   ]
  },
  {
   "cell_type": "markdown",
   "id": "5ee8504f",
   "metadata": {},
   "source": [
    "Expected base_dir structure\n",
    "```\n",
    "base_dir\n",
    "    |___ DFT\n",
    "        |___ energy_volume.csv\n",
    "        |___ elastic_tensor.csv\n",
    "        |___ gb_surfaces.csv\n",
    "        |___ gb_energies.csv\n",
    "        |___ mlip_dft_energy.csv\n",
    "    |___ CHG2\n",
    "    |___ CHG2-\n",
    "    |___ mace-medium-mp-0b3  # mace parent dir\n",
    "    |___mace-exp-27-multihead # mace fine-tunedmodel\n",
    "    |___mace-exp-32-freeze    # mace fine-tuned model\n",
    "```\n",
    "\n",
    "<div class=\"alert alert-block alert-info\">\n",
    "<b>Info:</b> \n",
    "The directory names are passed as list of string values in the `experiments` variable. \n",
    "</div>"
   ]
  },
  {
   "cell_type": "code",
   "execution_count": null,
   "id": "6b7e633b",
   "metadata": {
    "ExecuteTime": {
     "end_time": "2025-07-02T06:04:54.397864Z",
     "start_time": "2025-07-02T06:04:54.376315Z"
    }
   },
   "outputs": [],
   "source": [
    "base_dir = Path(\"output\")\n",
    "\n",
    "# set the below variable to True to save the plots\n",
    "SAVE_PLOTS = False\n",
    "# SAVE_PLOTS = True\n",
    "save_plot_dir = None\n",
    "\n",
    "if SAVE_PLOTS:\n",
    "    # if saving make the directory to save the plots\n",
    "    save_plot_dir = Path(\"plots/\")\n",
    "    save_plot_dir.mkdir(parents=True, exist_ok=True)"
   ]
  },
  {
   "cell_type": "markdown",
   "id": "e2e5ec13",
   "metadata": {},
   "source": [
    "### Performance on  Fe-dataset "
   ]
  },
  {
   "cell_type": "code",
   "execution_count": null,
   "id": "42771d12",
   "metadata": {
    "ExecuteTime": {
     "end_time": "2025-07-01T22:00:34.422790Z",
     "start_time": "2025-07-01T22:00:34.417751Z"
    }
   },
   "outputs": [],
   "source": [
    "remove_for_fe= True\n",
    "\n",
    "plot_info = { 'forces': {\"dft_key\": 'dft_force',\n",
    "                          \"mlip_key\": 'mlip_force', \n",
    "                          'xlabel': \"DFT predicted force (eV/$\\AA$)\",\n",
    "                          'ylabel':  \"MLIP predicted force (eV/$\\AA$)\",\n",
    "                          'colorscheme': \"Greens\",\n",
    "                          },\n",
    "             'energy_per_atom': {\"dft_key\": 'dft_energy_per_atom',\n",
    "                          \"mlip_key\": 'mlip_energy_per_atom' ,\n",
    "                          'xlabel': \"$E_{DFT}$ (eV/atom)\",\n",
    "                          'ylabel':  \"$\\hat E_{MLIP}$ (eV/atom)\",\n",
    "                          'colorscheme': \"Blues\",\n",
    "                          }\n",
    "}\n",
    "\n",
    "experiments = [\n",
    "                \"CHG2\",\n",
    "                \"MACE\",\n",
    "                \"Sevenn\",\n",
    "                \"CHG2-naive\",\n",
    "                \"MACE-naive\",\n",
    "                \"MACE-Replay\",\n",
    "                \"Sevenn-naive\"\n",
    "                ]\n",
    "\n",
    "\n",
    "plot = 'energy_per_atom'"
   ]
  },
  {
   "cell_type": "code",
   "execution_count": null,
   "id": "fad33ded",
   "metadata": {
    "ExecuteTime": {
     "end_time": "2025-07-01T22:00:37.600133Z",
     "start_time": "2025-07-01T22:00:35.475359Z"
    }
   },
   "outputs": [],
   "source": [
    "from utils.make_plots import plot_fe_energies\n",
    "\n",
    "remove_for_fe= True\n",
    "\n",
    "plot_fe_energies(plot_info, experiments, remove_for_fe, plot, base_dir, file_name=\"fe_mlip_dft_energy.pkl\", save_dir=save_plot_dir)"
   ]
  },
  {
   "cell_type": "code",
   "execution_count": null,
   "id": "0b240aeb",
   "metadata": {
    "ExecuteTime": {
     "end_time": "2025-07-02T06:07:35.264604Z",
     "start_time": "2025-07-02T06:07:35.260041Z"
    }
   },
   "outputs": [],
   "source": [
    "\n",
    "file_name = \"mptrj_w_force_mlip_dft_energy.pkl\" \n",
    "remove_outlier = True # to remove very high energies from plot only\n",
    "\n",
    "plot_info = { 'forces': {\"dft_key\": 'dft_force',\n",
    "                          \"mlip_key\": 'mlip_force', \n",
    "                          'xlabel': \"$f_{DFT}$ (eV/$\\AA$)\",\n",
    "                          'ylabel':  \"$\\hat f_{MLIP}$ (eV/$\\AA$)\",\n",
    "                        #   'colorscheme': \"Greens\",\n",
    "                          'colorscheme': \"viridis\",\n",
    "                          },\n",
    "             'energy': {\"dft_key\": 'dft_energy_per_atom',\n",
    "                          \"mlip_key\": 'mlip_energy_per_atom' ,\n",
    "                          'xlabel': \"$E_{DFT}$ (eV/atom)\",\n",
    "                          'ylabel':  \"$\\hat E_{MLIP}$ (eV/atom)\",\n",
    "                          'colorscheme': \"Blues\",\n",
    "                          }\n",
    "}\n",
    "experiments = [\n",
    "                \"CHG2\",\n",
    "                \"MACE\",\n",
    "                \"Sevenn\",\n",
    "                \"CHG2-naive\",\n",
    "                \"MACE-naive\",\n",
    "                \"MACE-Replay\",\n",
    "                \"Sevenn-naive\",\n",
    "                \"MACE-freeze\"\n",
    "                ]\n",
    "\n",
    "plot = 'energy'"
   ]
  },
  {
   "cell_type": "code",
   "execution_count": null,
   "id": "19694086",
   "metadata": {
    "ExecuteTime": {
     "end_time": "2025-07-02T06:09:37.538906Z",
     "start_time": "2025-07-02T06:09:33.637383Z"
    }
   },
   "outputs": [],
   "source": [
    "from utils.make_plots import plot_mptrj_energies\n",
    "plot_mptrj_energies(plot_info, experiments, remove_outlier, plot, base_dir, file_name=\"mptrj_w_force_mlip_dft_energy.pkl\",\n",
    "                     save_dir=save_plot_dir,\n",
    "                    #  ncols=3, # if you want to set number of columns  usually it is sets it automatically \n",
    "                    # add_fig_numbering=False # to add a) b) c) etc. to the figures default is True\n",
    "                     )"
   ]
  },
  {
   "cell_type": "code",
   "execution_count": null,
   "id": "39b05c60",
   "metadata": {},
   "outputs": [],
   "source": [
    "\n",
    "file_name = \"mptrj_mlip_dft_energy_w_force.pkl\" # newer predictions which also contains forces \n",
    "remove_outlier = True # to remove very high energies from plot only\n",
    "\n",
    "plot = 'forces'\n",
    "from utils.make_plots import plot_mptrj_forces\n",
    "\n",
    "plot_mptrj_forces(plot_info, experiments,\n",
    "                   remove_outlier,\n",
    "                   plot,\n",
    "                   base_dir,\n",
    "                   file_name=\"mptrj_w_force_mlip_dft_energy.pkl\",\n",
    "                   save_dir=save_plot_dir,\n",
    "                     )"
   ]
  },
  {
   "cell_type": "markdown",
   "id": "95309845",
   "metadata": {},
   "source": [
    "# properties of Fe"
   ]
  },
  {
   "cell_type": "code",
   "execution_count": null,
   "id": "187c7531",
   "metadata": {
    "ExecuteTime": {
     "end_time": "2025-06-18T09:35:26.337432Z",
     "start_time": "2025-06-18T09:35:26.333702Z"
    }
   },
   "outputs": [],
   "source": [
    "# below contains the dir names for the models\n",
    "experiments = [\n",
    "                \"DFT\",\n",
    "                \"CHG2\",\n",
    "                \"MACE\",\n",
    "                \"CHG2-FT\",\n",
    "                \"MACE-FT\",\n",
    "                ]"
   ]
  },
  {
   "cell_type": "code",
   "execution_count": null,
   "id": "6c10569f",
   "metadata": {
    "ExecuteTime": {
     "end_time": "2025-06-18T09:35:27.274768Z",
     "start_time": "2025-06-18T09:35:27.263854Z"
    }
   },
   "outputs": [],
   "source": [
    "# vacancy formation energy\n",
    "\n",
    "file_vac = 'lattice_vac_energy.csv'\n",
    "\n",
    "vac_data = {}\n",
    "for exp in experiments:\n",
    "    data_path = base_dir / exp / file_vac\n",
    "    data = pd.read_csv(data_path)\n",
    "    \n",
    "    vac_data[exp] = [data['vac_energy'].values[0]]\n",
    "    print(f\"{exp = }:\",vac_data[exp][-1] )"
   ]
  },
  {
   "cell_type": "code",
   "execution_count": null,
   "id": "cf40531a",
   "metadata": {},
   "outputs": [],
   "source": [
    "from utils.make_plots import plot_fe_properties\n",
    "\n",
    "plot_fe_properties(experiments, base_dir, save_plot_dir)"
   ]
  },
  {
   "cell_type": "code",
   "execution_count": null,
   "id": "f7158a57",
   "metadata": {},
   "outputs": [],
   "source": [
    "# for figure in appendix\n",
    "from utils.make_plots import plot_gb_alone\n",
    "\n",
    "plot_gb_alone(experiments, base_dir, gb_type='twist')"
   ]
  },
  {
   "cell_type": "markdown",
   "id": "a85d2ea6",
   "metadata": {},
   "source": [
    "# Validation"
   ]
  },
  {
   "cell_type": "code",
   "execution_count": null,
   "id": "f1679e75",
   "metadata": {
    "ExecuteTime": {
     "end_time": "2025-06-18T09:35:33.441127Z",
     "start_time": "2025-06-18T09:35:33.427825Z"
    }
   },
   "outputs": [],
   "source": [
    "from utils.make_plots import plot_impurities, get_1nn_MAE"
   ]
  },
  {
   "cell_type": "code",
   "execution_count": null,
   "id": "5e986101",
   "metadata": {
    "ExecuteTime": {
     "end_time": "2025-06-18T09:35:37.391596Z",
     "start_time": "2025-06-18T09:35:33.564221Z"
    }
   },
   "outputs": [],
   "source": [
    "# for subset plot elements that have to be removed\n",
    "elements_to_remove = [\n",
    "                      'Mn',\n",
    "                      'Si', \n",
    "                      'Mo',\n",
    "                      'Cr', \n",
    "                      'V', \n",
    "                      'Ti', \n",
    "                      'Zn',\n",
    "                      'vac'\n",
    "                      ]\n",
    "\n",
    "# elements_to_remove = None # to plot all elements\n",
    " \n",
    "to_include = None  # this variable is to selectively add elements to the plot\n",
    "\n",
    "experiments = ['DFT', \n",
    "               'CHG2',\n",
    "               \"MACE\",\n",
    "                 \"CHG2-FT\",\n",
    "                 \"MACE-FT\",\n",
    "                 \"Literature1\",\n",
    "                 \"Literature2\",\n",
    "                 \"Literature3\"\n",
    "                 ]\n",
    "plot_impurities(experiments, save_dir=save_plot_dir,base_dir=base_dir,\n",
    "                 elements_to_remove=elements_to_remove, img_col=6)"
   ]
  },
  {
   "cell_type": "code",
   "execution_count": null,
   "id": "c571e86e5cc1cb4d",
   "metadata": {
    "ExecuteTime": {
     "end_time": "2025-06-18T09:35:37.441930Z",
     "start_time": "2025-06-18T09:35:37.420042Z"
    }
   },
   "outputs": [],
   "source": [
    "# get the MAE of 1nn for the models\n",
    "\n",
    "get_1nn_MAE(experiments=experiments,\n",
    "            base_dir=base_dir,\n",
    "            elements_to_remove=elements_to_remove,\n",
    "            to_include=to_include)\n"
   ]
  },
  {
   "cell_type": "markdown",
   "id": "41bcad5618867df1",
   "metadata": {},
   "source": [
    "### Plot vacancies and solute interaction"
   ]
  },
  {
   "cell_type": "code",
   "execution_count": null,
   "id": "8828948d",
   "metadata": {
    "ExecuteTime": {
     "end_time": "2025-06-18T09:35:39.390046Z",
     "start_time": "2025-06-18T09:35:37.516699Z"
    }
   },
   "outputs": [],
   "source": [
    "elements_to_remove = [\n",
    "                    #   'Al',\n",
    "                      'Mn',\n",
    "                      'Si', \n",
    "                      'Mo',\n",
    "                      'Cr', \n",
    "                      'V', \n",
    "                      'Ti', \n",
    "                      # 'Nb', \n",
    "                      'Zn',\n",
    "                      ]\n",
    "\n",
    "to_include = [ 'vac' ]\n",
    "\n",
    "plot_impurities(experiments, save_dir=save_plot_dir,base_dir=base_dir, elements_to_remove=elements_to_remove, to_include=to_include, img_col=3)"
   ]
  },
  {
   "cell_type": "code",
   "execution_count": null,
   "id": "9b061c36",
   "metadata": {
    "ExecuteTime": {
     "end_time": "2025-06-18T09:35:39.442061Z",
     "start_time": "2025-06-18T09:35:39.416709Z"
    }
   },
   "outputs": [],
   "source": [
    "\n",
    "get_1nn_MAE(experiments=experiments,\n",
    "            base_dir=base_dir,\n",
    "            elements_to_remove=elements_to_remove,\n",
    "            to_include=to_include)\n"
   ]
  },
  {
   "cell_type": "markdown",
   "id": "915f8eeae255b328",
   "metadata": {},
   "source": [
    "# interstitial atoms"
   ]
  },
  {
   "cell_type": "code",
   "execution_count": null,
   "id": "f962e0005b7fa94b",
   "metadata": {
    "ExecuteTime": {
     "end_time": "2025-06-18T09:35:39.502342Z",
     "start_time": "2025-06-18T09:35:39.490128Z"
    }
   },
   "outputs": [],
   "source": [
    "experiments = ['DFT', \n",
    "               'CHG2',\n",
    "               \"MACE\",\n",
    "                 \"CHG2-FT\",\n",
    "                 \"MACE-FT\"]\n",
    "\n",
    "def tet_oct_diff(exp, file_name = 'interstitials.csv'):\n",
    "    df_int = pd.read_csv(base_dir / exp / file_name)\n",
    "    print(f\"---------------------------------------\")\n",
    "    print(f\"{exp = }\")\n",
    "    for idx,row in df_int.iterrows():\n",
    "        ele = row['imps']\n",
    "        e_oct_tet = row['e_oct'] - row['e_tet']\n",
    "\n",
    "        print(f\"{ele = } {e_oct_tet = }\")\n",
    "\n",
    "for exp in experiments:\n",
    "    if exp != 'DFT':\n",
    "        tet_oct_diff(exp)"
   ]
  },
  {
   "cell_type": "markdown",
   "id": "c82de785",
   "metadata": {},
   "source": [
    "# RMSE plot\n",
    "The below section is to plot the RMSE plots as function of epochs for different models.\n",
    "\n",
    "For evaluation the script expects the dir prefix for each model to be given in `base_name`, the epoch number is then appended to the base name. \n",
    "\n",
    "For example:\n",
    "```python\n",
    "{\n",
    "    \"exp_name\": \"CHG2-lr-$10^{-4}$\",\n",
    "    \"rmse_mprtj\":[0.062],\n",
    "    \"rmse_fe\": [0.2122],\n",
    "    \"base_name\": \"CHG2-experiment-3-ep\"  # base name\n",
    "}\n",
    "```\n",
    "The code will look for the following directories in the `base_dir`:\n",
    "- CHG2-experiment-3-ep10\n",
    "- CHG2-experiment-3-ep20\n",
    "- CHG2-experiment-3-ep30\n",
    "- CHG2-experiment-3-ep40\n",
    "- CHG2-experiment-3-ep50"
   ]
  },
  {
   "cell_type": "code",
   "execution_count": null,
   "id": "d3aac1ea",
   "metadata": {
    "ExecuteTime": {
     "end_time": "2025-07-02T06:31:50.461594Z",
     "start_time": "2025-07-02T06:31:50.456530Z"
    }
   },
   "outputs": [],
   "source": [
    "# lr = 0.01\n",
    "chg2_lr2 = {\n",
    "    \"exp_name\": \"CHG2-lr-$10^{-2}$\",\n",
    "    \"rmse_mprtj\":[0.062],\n",
    "    \"rmse_fe\": [0.2122],\n",
    "    \"base_name\": \"CHG2-experiment-1-ep\"\n",
    "}\n",
    "\n",
    "# lr = 0.001\n",
    "chg2_lr1 = {\n",
    "    \"exp_name\": \"CHG2-lr-$10^{-3}$\",\n",
    "    \"rmse_mprtj\":[0.062],\n",
    "    \"rmse_fe\": [0.2122],\n",
    "    \"base_name\": \"CHG2-experiment-2-ep\"\n",
    "}\n",
    "\n",
    "# lr = 0.0001\n",
    "chg2 = {\n",
    "    \"exp_name\": \"CHG2-lr-$10^{-4}$\",\n",
    "    \"rmse_mprtj\":[0.062],\n",
    "    \"rmse_fe\": [0.2122],\n",
    "    \"base_name\": \"CHG2-experiment-3-ep\"\n",
    "}\n",
    "\n",
    "# lr = 0.01\n",
    "sevenn_lr2 = {\n",
    "    \"exp_name\": \"Sevenn-lr-$10^{-2}$\",\n",
    "    \"rmse_mprtj\":[0.040],\n",
    "    \"rmse_fe\": [0.187],\n",
    "    \"base_name\": \"sevenn-experiment-1-ep\"\n",
    "}\n",
    "\n",
    "# lr = 0.001\n",
    "sevenn_lr1 = {\n",
    "    \"exp_name\": \"Sevenn-lr-$10^{-3}$\",\n",
    "    \"rmse_mprtj\":[0.040],\n",
    "    \"rmse_fe\": [0.187],\n",
    "    \"base_name\": \"sevenn-experiment-2-ep\"\n",
    "}\n",
    "\n",
    "# lr = 0.0001\n",
    "sevenn = {\n",
    "    \"exp_name\": \"Sevenn-lr-$10^{-4}$\",\n",
    "    \"rmse_mprtj\":[0.040],\n",
    "    \"rmse_fe\": [0.187],\n",
    "    \"base_name\": \"sevenn-experiment-3-ep\"\n",
    "}\n",
    "\n",
    "# lr = 0.01\n",
    "mace_lr2 = {\n",
    "    \"exp_name\": \"MACE-lr-$10^{-2}$\",\n",
    "    \"rmse_mprtj\":[0.04],\n",
    "    \"rmse_fe\": [0.172],\n",
    "    \"base_name\": \"mace-experiment-1-ep\"\n",
    "}\n",
    "\n",
    "\n",
    "# lr = 0.001\n",
    "mace_lr1 = {\n",
    "    \"exp_name\": \"MACE-lr-$10^{-3}$\",\n",
    "    \"rmse_mprtj\":[0.04],\n",
    "    \"rmse_fe\": [0.172],\n",
    "    \"base_name\": \"mace-experiment-2-ep\"\n",
    "}\n",
    "\n",
    "# lr = 0.0001\n",
    "mace = {\n",
    "    \"exp_name\": \"MACE-lr-$10^{-4}$\",\n",
    "    \"rmse_mprtj\":[0.04],\n",
    "    \"rmse_fe\": [0.172],\n",
    "    \"base_name\": \"mace-experiment-3-ep\"\n",
    "}\n"
   ]
  },
  {
   "cell_type": "code",
   "execution_count": null,
   "id": "4bcd036b",
   "metadata": {},
   "outputs": [],
   "source": [
    "from utils.make_plots import get_rmse\n",
    "\n",
    "def extract_rmses(filename: str, base_dir: Path, data: dict, key: str):\n",
    "    \"\"\"Extract RMSE values from a pickle file.\n",
    "    \"\"\"\n",
    "    epochs = [10, 20, 30, 40, 50] # change the epochs as per need\n",
    "\n",
    "    for epoch in epochs:\n",
    "        file_path = base_dir / f\"{data['base_name']}{epoch}/{filename}\"\n",
    "        if file_path.exists():\n",
    "            with open(file_path, 'rb') as f:\n",
    "                data = pickle.load(f)\n",
    "            rmse_fe = get_rmse(data['dft_energy_per_atom'], data['mlip_energy_per_atom'])\n",
    "            data[key].append(rmse_fe)\n"
   ]
  },
  {
   "cell_type": "code",
   "execution_count": null,
   "id": "63423f72",
   "metadata": {},
   "outputs": [],
   "source": [
    "data_list = [chg2, chg2_lr1, chg2_lr2, mace,  mace_lr1, mace_lr2, sevenn, sevenn_lr1, sevenn_lr2]\n",
    "\n",
    "# get the rmse values\n",
    "for data in data_list:\n",
    "    extract_rmses(\"mptrj_w_force_mlip_dft_energy.pkl\", base_dir, data, key=\"rmse_mprtj\")\n",
    "    extract_rmses(\"fe_dft_energy.pkl\", base_dir, data, key=\"rmse_fe\")\n",
    "\n"
   ]
  },
  {
   "cell_type": "code",
   "execution_count": null,
   "id": "8d8f820f",
   "metadata": {
    "ExecuteTime": {
     "end_time": "2025-07-02T06:33:55.163683Z",
     "start_time": "2025-07-02T06:33:55.101452Z"
    }
   },
   "outputs": [],
   "source": [
    "rows = 1\n",
    "cols = 1\n",
    "fig, axes = plt.subplots(rows, cols, figsize=(10 * cols, 4 * rows))\n",
    "\n",
    "# plt.rcParams.update({'font.size': 18})\n",
    "def plot_scatter_with_dotted_lines(data_list: list[dict],\n",
    "                                   plot_key: str,\n",
    "                                   title: str = \"RMSE Comparison\",\n",
    "                                   ax=None,\n",
    "                                   ymin=None,\n",
    "                                   ymax=None,\n",
    "                                   fig_label=None,\n",
    "                                   ylabel: str = \"RMSE MPRTJ (ev/atom)\"\n",
    "                                   ):\n",
    "    markers = [\"o\", \"P\",\"d\",\"o\", \"P\",\"d\",\"o\", \"P\",\"d\",]\n",
    "\n",
    "    colors = [\"tab:blue\",\"tab:blue\",\"tab:blue\",  \"tab:green\",\"tab:green\",\"tab:green\", \"tab:orange\", \"tab:orange\", \"tab:orange\"]\n",
    "    linestyles = [ \"-\", \"-\",\"-\",\"--\",\"--\",\"--\",  \"-.\",  \"-.\",  \"-.\"]\n",
    "    \n",
    "    for idx,data in enumerate(data_list):\n",
    "        exp_name = data[\"exp_name\"]\n",
    "        plot_data = data[plot_key]\n",
    "\n",
    "        epochs = [i for i in range(0,len(plot_data)*10, 10)]\n",
    "        \n",
    "        # Connect points with dotted lines\n",
    "        ax.plot(epochs, plot_data, alpha=0.8, color=colors[idx], label=exp_name,\n",
    "                marker=markers[idx], markersize=8, linewidth=2, linestyle=linestyles[idx],\n",
    "                markerfacecolor='none', markeredgewidth=1)\n",
    "\n",
    "        if ymin is None:\n",
    "            ymin = min(plot_data) - 0.01\n",
    "        if ymax is None:\n",
    "            ymax = max(plot_data) + 0.01\n",
    "\n",
    "    \n",
    "    # Add labels and title\n",
    "    ax.set_xlabel(\"Epochs\", fontsize=14)\n",
    "    ax.set_ylabel(ylabel, fontsize=14)\n",
    "    ax.set_ylim(ymin, ymax)\n",
    "    if fig_label is not None:\n",
    "        ax.text(-0.1, 1.01, fig_label, transform=ax.transAxes,\n",
    "                fontsize=16, fontweight='bold', va='bottom', ha='right')\n",
    "    \n",
    "    if plot_key == 'rmse_mprtj':\n",
    "        plt.annotate(\"CHG2 and Sevenn lr$10^{-2}$\", \n",
    "                xy=(10, 0.7),  # arrow target\n",
    "                xytext=(10, 0.45),     # box position\n",
    "                fontsize=8, color=\"tab:blue\",\n",
    "                arrowprops=dict(facecolor=\"black\", shrink=0.05, width=1.5, headwidth=8),\n",
    "                bbox=dict(boxstyle=\"round,pad=0.3\", edgecolor=\"tab:blue\", facecolor=\"white\"))\n",
    "\n",
    "    for _, spine in ax.spines.items():\n",
    "        spine.set_visible(True)\n",
    "        spine.set_color('black')\n",
    "        spine.set_linewidth(1)\n"
   ]
  },
  {
   "cell_type": "code",
   "execution_count": null,
   "id": "7fc67263",
   "metadata": {},
   "outputs": [],
   "source": [
    "# the ymax and ymin were chosen manually to have better visualization\n",
    "ymax = 0.7\n",
    "ymin = 0.0\n",
    "\n",
    "plot_scatter_with_dotted_lines(data_list,\n",
    "                               plot_key='rmse_mprtj',\n",
    "                               title=\"Accuracy of MLIPs\",\n",
    "                                 # ax=axes[0],\n",
    "                               ylabel=\"RMSE MPRTJ (ev/atom)\",\n",
    "                               ax=axes,\n",
    "                                   ymax=ymax, ymin=ymin\n",
    "                                #    fig_label=\"a)\"\n",
    "                                   )\n",
    "\n",
    "fig.tight_layout()\n",
    "# handles, labels = axes[0].get_legend_handles_labels()\n",
    "labels = [i['exp_name'] for i in data_list]\n",
    "# adjust the right margin to make space for legend\n",
    "fig.subplots_adjust(right=0.49)  # Adjust right margin to make space for\n",
    "# put the legend at the center right of the figure\n",
    "fig.legend(labels, bbox_to_anchor=(0.5, 0.5), loc='center left', borderaxespad=0., ncol=1, fontsize=12)\n",
    "fig.savefig( save_plot_dir / \"accuracy_mptrj.png\", dpi=300, bbox_inches='tight')\n"
   ]
  },
  {
   "cell_type": "code",
   "execution_count": null,
   "id": "56f2f473",
   "metadata": {},
   "outputs": [],
   "source": [
    "plot_scatter_with_dotted_lines(data_list,plot_key='rmse_fe',\n",
    "                                title=\"Accuracy of MLIPs\",\n",
    "                                ax=axes,\n",
    "                                ymax=0.3,\n",
    "                                ymin=ymin,\n",
    "                                # fig_label=\"b)\",\n",
    "                                ylabel=\"RMSE Fe (ev/atom)\")\n",
    "\n",
    "fig.tight_layout()\n",
    "# handles, labels = axes[0].get_legend_handles_labels()\n",
    "labels = [i['exp_name'] for i in data_list]\n",
    "# adjust the right margin to make space for legend\n",
    "fig.subplots_adjust(right=0.49)  # Adjust right margin to make space for\n",
    "\n",
    "# put the legend at the center right of the figure\n",
    "fig.legend(labels, bbox_to_anchor=(0.5, 0.5), loc='center left', borderaxespad=0., ncol=1, fontsize=12)\n",
    "fig.savefig( save_plot_dir / \"accuracy_fe.png\", dpi=300, bbox_inches='tight')"
   ]
  },
  {
   "cell_type": "markdown",
   "id": "642b93b4",
   "metadata": {},
   "source": [
    "# Supplimentary\n",
    "The below plot was used to compare the freezing of layers in CHG2 model. The values were extracted manually as the number of experiments were small. "
   ]
  },
  {
   "cell_type": "code",
   "execution_count": null,
   "id": "35a5ee9a",
   "metadata": {},
   "outputs": [],
   "source": [
    "\n",
    "################################################################################\n",
    "#\n",
    "# below is comparison of freezing layers\n",
    "################################################################################\n",
    "\n",
    "\n",
    "def plot_scatter_(data_list: list[dict], title: str = \"RMSE Comparison\", ax=None):\n",
    "    # Create figure and axis\n",
    "    plt.figure(figsize=(8, 6))\n",
    "    n_groups = len(data_list)\n",
    "    cmap = plt.cm.get_cmap('tab10', n_groups)  # tab10 has 10 distinct colors\n",
    "    unique_colors = [cmap(i) for i in range(n_groups)]\n",
    "    markers = [\"o\", \"s\",\"x\",\"+\",\"v\",\"P\",\"X\",\"*\"]  # Add more markers if needed\n",
    "\n",
    "    if ax is None:\n",
    "        ax = plt.gca()\n",
    "\n",
    "\n",
    "    # Extract data for calculating axis limits\n",
    "    rmse_fe_values = [data[\"rmse_fe\"][0] for data in data_list]\n",
    "    rmse_mprtj_values = [data[\"rmse_mprtj\"][0] for data in data_list]\n",
    "\n",
    "    for idx, data in enumerate(data_list):\n",
    "        exp_name = data[\"exp_name\"]\n",
    "        exp_info = data['exp_info']\n",
    "        exp_label = data['exp_Label']\n",
    "        rmse_mprtj = data[\"rmse_mprtj\"][0]  # Extract single value from list\n",
    "        rmse_fe = data[\"rmse_fe\"][0]        # Extract single value from list\n",
    "\n",
    "        # Plot scatter points\n",
    "        ax.scatter(rmse_fe, rmse_mprtj, alpha=0.9, s=180, c='c', marker=markers[idx], label=exp_label)\n",
    "\n",
    "        # Add model name with arrow pointing to the point\n",
    "        if exp_info != \"\":\n",
    "            ax.annotate(exp_info,\n",
    "                        xy=(rmse_fe, rmse_mprtj),  # Point to annotate\n",
    "                        xytext=(rmse_fe + 0.0005, rmse_mprtj),  # Text position\n",
    "                        fontsize=12,\n",
    "                        ha='left', va='center',\n",
    "                        clip_on=True,\n",
    "                        arrowprops=dict(arrowstyle='->',\n",
    "                                        connectionstyle='arc3',\n",
    "                                        color='black',\n",
    "                                        shrinkB=2))\n",
    "\n",
    "    # Set axis limits with padding\n",
    "    ax.set_xlim(min(rmse_fe_values) - 0.0005, max(rmse_fe_values) + 0.0015)\n",
    "    ax.set_ylim(min(rmse_mprtj_values) - 0.01, max(rmse_mprtj_values) + 0.01)\n",
    "\n",
    "    # Add labels and title\n",
    "    ax.set_xlabel(\"RMSE Fe (ev/atom)\", fontsize=14)\n",
    "    ax.set_ylabel(\"RMSE MPRTJ (ev/atom)\", fontsize=14)\n",
    "    \n",
    "    plt.legend()\n",
    "    # Adjust layout\n",
    "    # plt.tight_layout()\n",
    "\n",
    "    if SAVE_PLOTS:\n",
    "        plt.savefig(f\"{save_plot_dir}/rmse_chgnet_.png\", dpi=500)\n",
    "\n",
    "\n",
    "\n",
    "# # Example usage with the provided dictionary\n",
    "chg2_1 = {\n",
    "    \"exp_Label\": \"Model 1\",\n",
    "    \"exp_info\": \"\",\n",
    "    \"rmse_mprtj\":[0.169],\n",
    "    \"rmse_fe\": [0.011],\n",
    "}\n",
    "chg2_2 = {\n",
    "    \"exp_Label\": \"Model 2\",\n",
    "    \"exp_info\": \"\",\n",
    "    \"rmse_mprtj\":[0.152],\n",
    "    \"rmse_fe\": [0.012],\n",
    "}\n",
    "chg2_3 = {\n",
    "    \"exp_Label\": \"Model 3\",\n",
    "    \"exp_info\": \"\",\n",
    "    \"rmse_mprtj\":[0.143],\n",
    "    \"rmse_fe\": [0.011],\n",
    "}\n",
    "chg2_5 = {\n",
    "    \"exp_name\": \"CHG2-85\",\n",
    "    \"exp_Label\": \"Model 4\",\n",
    "    \"exp_info\": \"\",\n",
    "    \"rmse_mprtj\":[0.113],\n",
    "    \"rmse_fe\": [0.011],\n",
    "}\n",
    "chg2_6 = {\n",
    "    \"exp_Label\": \"Model 5\",\n",
    "    \"exp_info\": \"Only Convolution layers trainable\",\n",
    "    \"rmse_mprtj\":[0.095],\n",
    "    \"rmse_fe\": [0.010],\n",
    "}\n",
    "\n",
    "chg2_7 = {\n",
    "    \"exp_Label\": \"Model 6\",\n",
    "    \"exp_info\": \"Naive\",\n",
    "    \"rmse_mprtj\":[0.111],\n",
    "    \"rmse_fe\": [0.013],\n",
    "}\n",
    "data_list = [chg2_1, chg2_2, chg2_3, chg2_5, chg2_6, chg2_7]\n",
    "plot_scatter_(data_list, title=\"Comparison Freezing layers for CHG2\")"
   ]
  },
  {
   "cell_type": "markdown",
   "id": "73f634dd",
   "metadata": {},
   "source": [
    "### Elastic properties as the training progresses."
   ]
  },
  {
   "cell_type": "code",
   "execution_count": null,
   "id": "14f1ece7",
   "metadata": {},
   "outputs": [],
   "source": [
    "epochs = [1,2,3,4,5,6,7,8,9, 10, 20, 30, 40, 50]\n",
    "base_names = [\"mace-exp-1-naive-lr3-ep\"]"
   ]
  },
  {
   "cell_type": "code",
   "execution_count": null,
   "id": "aa9b86b4",
   "metadata": {},
   "outputs": [],
   "source": [
    "\n",
    "def plot_for_model(base_dir, base_name, marker=None, colors=None):\n",
    "    c11s, c12s, c44s = [255], [145], [54]\n",
    "    if marker is None:\n",
    "        marker = 'o'\n",
    "    if colors is None:\n",
    "        colors = ['blue']\n",
    "    for i in epochs:\n",
    "        file_path = f\"{base_dir}/{base_name}{i}/elastic_tensor.csv\"\n",
    "        df = pd.read_csv(file_path)\n",
    "        c11s.append(df['C11'].values[0])\n",
    "        c12s.append(df['C12'].values[0])\n",
    "        c44s.append(df['C44'].values[0])\n",
    "    epochs.insert(0, 0)  # insert 0 at the beginning for the initial values\n",
    "\n",
    "    plt.plot(epochs, c11s, marker=marker,  label='C11')\n",
    "    plt.plot(epochs, c12s, marker=marker,  label='C12') \n",
    "    plt.plot(epochs, c44s, marker=marker,  label= 'C44')\n",
    "\n",
    "markers = ['o', 's', 'D', 'x', '^', 'v', 'p', '*']\n",
    "# cool color\n",
    "colors = ['#1f77b4', \"#6E3706\", '#2ca02c', '#d62728', '#9467bd', '#8c564b', '#e377c2', '#7f7f7f']\n",
    "for color, marker,base_name in zip(colors, markers,base_names):\n",
    "    print(f\"{base_name = }\")\n",
    "    plot_for_model(base_dir, base_name, marker=marker, colors=color)\n",
    "\n",
    "plt.legend()\n",
    "plt.title('Elastic Constants vs Epochs for CHGNet')\n",
    "plt.show()\n"
   ]
  }
 ],
 "metadata": {
  "kernelspec": {
   "display_name": "chgnet",
   "language": "python",
   "name": "python3"
  },
  "language_info": {
   "codemirror_mode": {
    "name": "ipython",
    "version": 3
   },
   "file_extension": ".py",
   "mimetype": "text/x-python",
   "name": "python",
   "nbconvert_exporter": "python",
   "pygments_lexer": "ipython3",
   "version": "3.12.0"
  }
 },
 "nbformat": 4,
 "nbformat_minor": 5
}
